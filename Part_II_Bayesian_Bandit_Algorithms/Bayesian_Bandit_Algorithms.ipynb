{
 "cells": [
  {
   "cell_type": "markdown",
   "metadata": {},
   "source": [
    "## Part II: Bayesian Bandit Algorithms\n",
    "There are two arms which may be pulled repeatedly in any order.\n",
    "Each pull may result in either a success or a failure.\n",
    "The sequence of successes and failures which results from pulling arm $i$ ($i \\in \\{1, 2\\}$) forms a Bernoulli process with unknown success probability $\\theta_{i}$.\n",
    "A success at the $t^{th}$ pull yields a reward $\\gamma^{t-1}$ ($0 < \\gamma <1$), while an unsuccessful pull yields a zero reward.\n",
    "At time zero, each $\\theta_{i}$ has a Beta prior distribution with two parameters $\\alpha_{i}, \\beta_{i}$ and these distributions are independent for different arms.\n",
    "These prior distributions are updated to posterior distributions as arms are pulled.\n",
    "Since the class of Beta distributions is closed under Bernoulli sampling, posterior distributions are all Beta distributions.\n",
    "How should the arm to pull next in each time slot be chosen to maximize the total expected reward from an infinite sequence of pulls?"
   ]
  },
  {
   "cell_type": "markdown",
   "metadata": {},
   "source": [
    "#### 1. \tOne intuitive policy suggests that in each time slot we should pull the arm for which the current expected value of $\\theta_{i}$ is the largest. This policy behaves very good in most cases. Please design simulations to check the behavior of this policy."
   ]
  },
  {
   "cell_type": "code",
   "execution_count": 8,
   "metadata": {},
   "outputs": [
    {
     "name": "stderr",
     "output_type": "stream",
     "text": [
      "100%|██████████| 200/200 [00:03<00:00, 51.54it/s]\n"
     ]
    },
    {
     "name": "stdout",
     "output_type": "stream",
     "text": [
      "gamma: 0.1, alpha: [1, 1], beta: [1, 1], avg_reward: 0.5534, avg_regret_rate: 0.2794\n"
     ]
    },
    {
     "name": "stderr",
     "output_type": "stream",
     "text": [
      "100%|██████████| 200/200 [00:03<00:00, 51.16it/s]\n"
     ]
    },
    {
     "name": "stdout",
     "output_type": "stream",
     "text": [
      "gamma: 0.1, alpha: [2, 1], beta: [1, 1], avg_reward: 0.5405, avg_regret_rate: 0.2721\n"
     ]
    },
    {
     "name": "stderr",
     "output_type": "stream",
     "text": [
      "100%|██████████| 200/200 [00:03<00:00, 51.99it/s]\n"
     ]
    },
    {
     "name": "stdout",
     "output_type": "stream",
     "text": [
      "gamma: 0.1, alpha: [20, 1], beta: [10, 1], avg_reward: 0.5649, avg_regret_rate: 0.2339\n"
     ]
    },
    {
     "name": "stderr",
     "output_type": "stream",
     "text": [
      "100%|██████████| 200/200 [00:03<00:00, 53.22it/s]\n"
     ]
    },
    {
     "name": "stdout",
     "output_type": "stream",
     "text": [
      "gamma: 0.3, alpha: [1, 1], beta: [1, 1], avg_reward: 0.7975, avg_regret_rate: 0.1243\n"
     ]
    },
    {
     "name": "stderr",
     "output_type": "stream",
     "text": [
      "100%|██████████| 200/200 [00:04<00:00, 48.74it/s]\n"
     ]
    },
    {
     "name": "stdout",
     "output_type": "stream",
     "text": [
      "gamma: 0.3, alpha: [2, 1], beta: [1, 1], avg_reward: 0.7813, avg_regret_rate: 0.2369\n"
     ]
    },
    {
     "name": "stderr",
     "output_type": "stream",
     "text": [
      "100%|██████████| 200/200 [00:03<00:00, 50.42it/s]\n"
     ]
    },
    {
     "name": "stdout",
     "output_type": "stream",
     "text": [
      "gamma: 0.3, alpha: [20, 1], beta: [10, 1], avg_reward: 0.6766, avg_regret_rate: 0.2897\n"
     ]
    },
    {
     "name": "stderr",
     "output_type": "stream",
     "text": [
      "100%|██████████| 200/200 [00:03<00:00, 51.15it/s]\n"
     ]
    },
    {
     "name": "stdout",
     "output_type": "stream",
     "text": [
      "gamma: 0.5, alpha: [1, 1], beta: [1, 1], avg_reward: 1.0809, avg_regret_rate: 0.1999\n"
     ]
    },
    {
     "name": "stderr",
     "output_type": "stream",
     "text": [
      "100%|██████████| 200/200 [00:03<00:00, 50.66it/s]\n"
     ]
    },
    {
     "name": "stdout",
     "output_type": "stream",
     "text": [
      "gamma: 0.5, alpha: [2, 1], beta: [1, 1], avg_reward: 1.0306, avg_regret_rate: 0.2144\n"
     ]
    },
    {
     "name": "stderr",
     "output_type": "stream",
     "text": [
      "100%|██████████| 200/200 [00:03<00:00, 52.67it/s]\n"
     ]
    },
    {
     "name": "stdout",
     "output_type": "stream",
     "text": [
      "gamma: 0.5, alpha: [20, 1], beta: [10, 1], avg_reward: 0.9873, avg_regret_rate: 0.2047\n"
     ]
    },
    {
     "name": "stderr",
     "output_type": "stream",
     "text": [
      "100%|██████████| 200/200 [00:03<00:00, 52.06it/s]\n"
     ]
    },
    {
     "name": "stdout",
     "output_type": "stream",
     "text": [
      "gamma: 0.7, alpha: [1, 1], beta: [1, 1], avg_reward: 2.0485, avg_regret_rate: 0.1281\n"
     ]
    },
    {
     "name": "stderr",
     "output_type": "stream",
     "text": [
      "100%|██████████| 200/200 [00:03<00:00, 52.50it/s]\n"
     ]
    },
    {
     "name": "stdout",
     "output_type": "stream",
     "text": [
      "gamma: 0.7, alpha: [2, 1], beta: [1, 1], avg_reward: 1.8086, avg_regret_rate: 0.2016\n"
     ]
    },
    {
     "name": "stderr",
     "output_type": "stream",
     "text": [
      "100%|██████████| 200/200 [00:03<00:00, 50.82it/s]\n"
     ]
    },
    {
     "name": "stdout",
     "output_type": "stream",
     "text": [
      "gamma: 0.7, alpha: [20, 1], beta: [10, 1], avg_reward: 1.6074, avg_regret_rate: 0.2460\n"
     ]
    },
    {
     "name": "stderr",
     "output_type": "stream",
     "text": [
      "100%|██████████| 200/200 [00:03<00:00, 53.62it/s]\n"
     ]
    },
    {
     "name": "stdout",
     "output_type": "stream",
     "text": [
      "gamma: 0.9, alpha: [1, 1], beta: [1, 1], avg_reward: 6.2194, avg_regret_rate: 0.0916\n"
     ]
    },
    {
     "name": "stderr",
     "output_type": "stream",
     "text": [
      "100%|██████████| 200/200 [00:03<00:00, 52.34it/s]\n"
     ]
    },
    {
     "name": "stdout",
     "output_type": "stream",
     "text": [
      "gamma: 0.9, alpha: [2, 1], beta: [1, 1], avg_reward: 6.0296, avg_regret_rate: 0.0888\n"
     ]
    },
    {
     "name": "stderr",
     "output_type": "stream",
     "text": [
      "100%|██████████| 200/200 [00:03<00:00, 52.35it/s]\n"
     ]
    },
    {
     "name": "stdout",
     "output_type": "stream",
     "text": [
      "gamma: 0.9, alpha: [20, 1], beta: [10, 1], avg_reward: 5.4094, avg_regret_rate: 0.2213\n"
     ]
    },
    {
     "name": "stderr",
     "output_type": "stream",
     "text": [
      "100%|██████████| 200/200 [00:03<00:00, 51.78it/s]\n"
     ]
    },
    {
     "name": "stdout",
     "output_type": "stream",
     "text": [
      "gamma: 0.99, alpha: [1, 1], beta: [1, 1], avg_reward: 61.6180, avg_regret_rate: 0.0568\n"
     ]
    },
    {
     "name": "stderr",
     "output_type": "stream",
     "text": [
      "100%|██████████| 200/200 [00:03<00:00, 53.32it/s]\n"
     ]
    },
    {
     "name": "stdout",
     "output_type": "stream",
     "text": [
      "gamma: 0.99, alpha: [2, 1], beta: [1, 1], avg_reward: 64.7995, avg_regret_rate: 0.0434\n"
     ]
    },
    {
     "name": "stderr",
     "output_type": "stream",
     "text": [
      "100%|██████████| 200/200 [00:03<00:00, 53.15it/s]"
     ]
    },
    {
     "name": "stdout",
     "output_type": "stream",
     "text": [
      "gamma: 0.99, alpha: [20, 1], beta: [10, 1], avg_reward: 61.9752, avg_regret_rate: 0.1035\n"
     ]
    },
    {
     "name": "stderr",
     "output_type": "stream",
     "text": [
      "\n"
     ]
    }
   ],
   "source": [
    "import numpy as np\n",
    "from tqdm import tqdm\n",
    "\n",
    "def intuitive_policy(N, gamma, true_theta, alpha, beta):\n",
    "    \"\"\"\n",
    "    Implements the intuitive policy for a two-armed bandit problem with discounted rewards.\n",
    "    \n",
    "    Args:\n",
    "        N (int): Number of time steps\n",
    "        gamma (float): Discount factor\n",
    "        true_theta (np.ndarray): True probabilities for each arm\n",
    "        alpha (list): Initial alpha parameters for Beta distribution\n",
    "        beta (list): Initial beta parameters for Beta distribution\n",
    "    \n",
    "    Returns:\n",
    "        float: Sum of discounted rewards\n",
    "    \"\"\"\n",
    "    rewards = np.zeros(N)\n",
    "    alpha = np.array(alpha)  \n",
    "    beta = np.array(beta)\n",
    "\n",
    "    for t in range(N):\n",
    "        theta_estimate = alpha / (alpha + beta)\n",
    "        chosen_arm = np.argmax(theta_estimate)\n",
    "\n",
    "        reward = np.random.rand() < true_theta[chosen_arm]\n",
    "        rewards[t] = reward * (gamma ** t)\n",
    "        \n",
    "        alpha[chosen_arm] += reward\n",
    "        beta[chosen_arm] += 1 - reward\n",
    "\n",
    "    return np.sum(rewards)\n",
    "\n",
    "num_trials = 200\n",
    "N = 5000\n",
    "gamma_list = [0.1, 0.3, 0.5, 0.7, 0.9, 0.99]\n",
    "alpha_list = [[1, 1], [2, 1], [20, 1]]\n",
    "beta_list = [[1, 1], [1, 1], [10, 1]]\n",
    "\n",
    "for gamma in gamma_list:\n",
    "    for alpha, beta in zip(alpha_list, beta_list):\n",
    "        rewards = np.zeros(num_trials)\n",
    "        regret_rate = np.zeros(num_trials)\n",
    "        \n",
    "        for i in tqdm(range(num_trials)):\n",
    "            true_theta = np.random.rand(2)\n",
    "\n",
    "            rewards[i] = intuitive_policy(N, gamma, true_theta, alpha, beta)\n",
    "            max_value = np.max(true_theta) / (1 - gamma)\n",
    "            regret_rate[i] = 1 - rewards[i] / max_value\n",
    "            \n",
    "        print(f\"gamma: {gamma}, alpha: {alpha}, beta: {beta}, \"\n",
    "              f\"avg_reward: {np.mean(rewards):.4f}, \"\n",
    "              f\"avg_regret_rate: {np.mean(regret_rate):.4f}\")"
   ]
  },
  {
   "cell_type": "markdown",
   "metadata": {},
   "source": [
    "To evaluate the performance of the algorithm, we need to find a suitable metric. Regret seems to be a good choice, but it is not normalized, leading to different scales for different settings. (For example, larger $\\gamma$ leads to larger regret.) Thus, we use the regret rate, which shows the portion of regret to the maximum expected reward.   \n",
    "The regret rate is defined as follow:  \n",
    "\n",
    "$\\text{regret rate} = 1 - \\frac{Reward}{\\max_i \\theta_i/(1-\\gamma)}$\n",
    "\n",
    "where the maximum possible reward is achieved by always pulling the arm with the highest true probability. For the discounted setting, this equals $\\frac{\\max_i \\theta_i}{1-\\gamma}$.\n",
    "\n",
    "The simulation results show that the intuitive policy performs well in most cases, achieving low regret rates.  \n",
    "| γ | Prior (α, β) | Average Reward | Average Regret Rate |\n",
    "|---|-------------|----------------|-------------------|\n",
    "| 0.1 | [1,1], [1,1] | 0.5534 | 0.2794 |\n",
    "| 0.1 | [2,1], [1,1] | 0.5405 | 0.2721 |\n",
    "| 0.1 | [20,1], [10,1] | 0.5649 | 0.2339 |\n",
    "| 0.3 | [1,1], [1,1] | 0.7975 | 0.1243 |\n",
    "| 0.3 | [2,1], [1,1] | 0.7813 | 0.2369 |\n",
    "| 0.3 | [20,1], [10,1] | 0.6766 | 0.2897 |\n",
    "| 0.5 | [1,1], [1,1] | 1.0809 | 0.1999 |\n",
    "| 0.5 | [2,1], [1,1] | 1.0306 | 0.2144 |\n",
    "| 0.5 | [20,1], [10,1] | 0.9873 | 0.2047 |\n",
    "| 0.7 | [1,1], [1,1] | 2.0485 | 0.1281 |\n",
    "| 0.7 | [2,1], [1,1] | 1.8086 | 0.2016 |\n",
    "| 0.7 | [20,1], [10,1] | 1.6074 | 0.2460 |\n",
    "| 0.9 | [1,1], [1,1] | 6.2194 | 0.0916 |\n",
    "| 0.9 | [2,1], [1,1] | 6.0296 | 0.0888 |\n",
    "| 0.9 | [20,1], [10,1] | 5.4094 | 0.2213 |\n",
    "| 0.99 | [1,1], [1,1] | 61.6180 | 0.0568 |\n",
    "| 0.99 | [2,1], [1,1] | 64.7995 | 0.0434 |\n",
    "| 0.99 | [20,1], [10,1] | 61.9752 | 0.1035 |\n",
    "\n",
    "This can be attributed to several factors:\n",
    "\n",
    "1. **Efficient Exploration**: The policy naturally balances exploration and exploitation through Bayesian updating of the Beta distributions.\n",
    "\n",
    "2. **Prior Knowledge Integration**: The Beta distribution parameters (α, β) allow incorporating prior knowledge about the arms, which helps guide initial exploration.\n",
    "\n",
    "3. **Quick Convergence**: As more rewards are observed, the posterior distributions quickly concentrate around the true probabilities, leading to optimal arm selection.\n",
    "\n",
    "Looking at the simulation results across different discount factors (γ) and prior parameters (α, β), we see consistently low regret rates, indicating the policy's robustness to different parameter settings. However, as we'll see in the counter-example, there are specific scenarios where this policy can be suboptimal.\n"
   ]
  },
  {
   "cell_type": "markdown",
   "metadata": {},
   "source": [
    "### 2. However, such intuitive policy is unfortunately not optimal. Please provide an example to show why such policy is not optimal. "
   ]
  },
  {
   "cell_type": "code",
   "execution_count": 9,
   "metadata": {},
   "outputs": [
    {
     "name": "stdout",
     "output_type": "stream",
     "text": [
      "Average reward: 38.13\n",
      "Maximum possible reward: 80.00\n",
      "Regret rate: 0.52\n"
     ]
    }
   ],
   "source": [
    "# Here's a counter-example with a strongly biased prior, but the second arm is actually better.\n",
    "# We'll run fewer steps (N_short=100), so the policy doesn't have time to correct the prior bias.\n",
    "\n",
    "test_runs = 1000\n",
    "test_rewards = np.zeros(test_runs)\n",
    "N_short = 100\n",
    "gamma_close_to_1 = 0.99\n",
    "\n",
    "\n",
    "counter_alpha = [200, 1]\n",
    "counter_beta = [1, 1]\n",
    "counter_true_theta = np.array([0.6, 0.8])  # second arm has higher probability\n",
    "\n",
    "for i in range(test_runs):\n",
    "    local_alpha = counter_alpha.copy()\n",
    "    local_beta = counter_beta.copy()\n",
    "    test_rewards[i] = intuitive_policy(N_short, gamma_close_to_1, counter_true_theta, local_alpha, local_beta)\n",
    "\n",
    "avg_r = np.mean(test_rewards)\n",
    "optimal_r = np.max(counter_true_theta) / (1 - gamma_close_to_1)\n",
    "print(f\"Average reward: {avg_r:.2f}\")\n",
    "print(f\"Maximum possible reward: {optimal_r:.2f}\")\n",
    "print(f\"Regret rate: {1 - avg_r/optimal_r:.2f}\")"
   ]
  },
  {
   "cell_type": "markdown",
   "metadata": {},
   "source": [
    "Given two arms with prior distributions:  \n",
    "#### Arm1  Beta(200,1), suggesting an expected value close to 1.0\n",
    "#### Arm2  Beta(1,1), suggesting an expected value close to 0.5\n",
    "\n",
    "A greedy strategy that consistently favors the arm with the higher expected value may lead to repeatedly selecting Arm 1. However, this approach has critical flaws. The prior for Arm 2 suggests significant uncertainty, as the Beta(1, 1) distribution is essentially non-informative, assigning equal probability to all values between 0 and 1.\n",
    "\n",
    "By selecting Arm 2 more frequently, we can reduce this uncertainty and potentially uncover a true value for Arm 2 that exceeds that of Arm 1.\n",
    "\n",
    "Focusing exclusively on Arm 1 due to its higher initial expected value neglects the possibility that Arm 2 could ultimately provide greater rewards once more data is collected. Failing to explore Arm 2 adequately risks missing out on higher returns that could arise if its true value is found to be higher than initially estimated.\n",
    "\n",
    "When priors differ significantly in terms of uncertainty, a strategy that relies solely on expected values can lead to consistently selecting a suboptimal arm. It is crucial to strike a balance between exploiting known information and exploring uncertain but potentially more rewarding alternatives."
   ]
  },
  {
   "cell_type": "markdown",
   "metadata": {},
   "source": [
    "#### 3. For the expected total reward under an optimal policy, show that the following recurrence equation holds:\n",
    "\n",
    "\\begin{equation*}\n",
    "\t\t\\begin{aligned}\n",
    "\t\t\tR_{1}(\\alpha_{1},\\beta_{1}) \n",
    "\t\t\t= & \\frac{\\alpha_{1}}{\\alpha_{1}+\\beta_{1}} [1+\\gamma R(\\alpha_{1} + 1, \\beta_{1}, \\alpha_{2}, \\beta_{2})] \\\\\n",
    "\t\t\t\t& + \\frac{\\beta_{1}}{\\alpha_{1} + \\beta_{1}} [\\gamma R(\\alpha_{1}, \\beta_{1} + 1, \\alpha_{2}, \\beta_{2})]; \\\\\n",
    "\t\t\tR_{2}(\\alpha_{2}, \\beta_{2}) \n",
    "\t\t\t= & \\frac{\\alpha_{2}}{\\alpha_{2} + \\beta_{2}} [1 + \\gamma R(\\alpha_{1}, \\beta_{1}, \\alpha_{2} + 1, \\beta_{2})] \\\\\n",
    "\t\t\t\t& + \\frac{\\beta_{2}}{\\alpha_{2} + \\beta_{2}} [\\gamma R(\\alpha_{1}, \\beta_{1}, \\alpha_{2}, \\beta_{2} + 1)]; \\\\\n",
    "\t\t\tR(\\alpha_{1}, \\beta_{1}, \\alpha_{2}, \\beta_{2}) \n",
    "\t\t\t= & \\max \\left\\{ R_{1}(\\alpha_{1}, \\beta_{1}), R_{2}(\\alpha_{2}, \\beta_{2}) \\right\\}.\n",
    "\t\t\\end{aligned}  \t\n",
    "\t\\end{equation*}"
   ]
  },
  {
   "cell_type": "markdown",
   "metadata": {},
   "source": [
    "### We first consider the case of pulling arm 1\n",
    "\n",
    "When pulling arm 1:\n",
    "- Success occurs with probability $\\frac{\\alpha_1}{\\alpha_1+\\beta_1}$ (mean of Beta distribution)\n",
    "    - Immediate reward: 1\n",
    "\n",
    "Since its Bayesian Inferece, with Beta-Binoimal conjugate, so the posterior distribution of $\\theta_1$ is still a Beta distribution, The future expected reward, considering a success, updates the parameters to $Beta(\\alpha_1+1,\\beta_1)$ and $Beta(\\alpha_1,\\beta_1 + 1)$ considering failure.\n",
    "\n",
    "So the next steps' rewards is $R(\\alpha_1+1,\\beta_1,\\alpha_2,\\beta_2)$ when success at this time, and $R(\\alpha_1,\\beta_1+1,\\alpha_2,\\beta_2)$ when failure at this time.\n",
    "\n",
    "Since at the $t^{th}$ pull yields a reward $\\gamma^{t-1}$ ($0 < \\gamma <1$), which means that the future's reward is will recieve a discount $\\gamma$ for each time.\n",
    "\n",
    "#### Considering a sucess at this time\n",
    "So for this time, if it sucess, we can recieve the reward $1$. And the parameters become $(\\alpha_1+1,\\beta_1,\\alpha_2,\\beta_2)$ due to the Beta-Binoimal conjugate. After the discount, the future's reward is $\\gamma R(\\alpha_1+1,\\beta_1,\\alpha_2,\\beta_2)$.\n",
    "\n",
    "Also, since success happens with probability $\\theta_1$. So the total rewards when success at this time is $$\\theta_1[1+\\gamma R(\\alpha_1+1,\\beta_1,\\alpha_2,\\beta_2)]$$\n",
    "\n",
    "#### Considering a failure at this time\n",
    "For this time, if it fail, we can recieve the reward $0$. And the parameters become $(\\alpha_1,\\beta_1+1,\\alpha_2,\\beta_2)$ due to the Beta-Binoimal conjugate. After the discount, the future's reward is $0+\\gamma R(\\alpha_1,\\beta_1+1,\\alpha_2,\\beta_2)$.\n",
    "\n",
    "Also, since failure happens with probability $1-\\theta_1$. So the total rewards when success at this time is $$(1-\\theta_1)[0+\\gamma R(\\alpha_1,\\beta_1+1,\\alpha_2,\\beta_2)]=(1-\\theta_1)[\\gamma R(\\alpha_1,\\beta_1+1,\\alpha_2,\\beta_2)]$$\n",
    "\n",
    "So combine the two parts, we can get that the total rewards when pull the first arm is that \n",
    "$$R_1(\\alpha_1,\\beta_1)=\\theta_1[1+\\gamma R(\\alpha_1+1,\\beta_1,\\alpha_2,\\beta_2)]+(1-\\theta_1)[\\gamma R(\\alpha_1,\\beta_1+1,\\alpha_2,\\beta_2)]$$\n",
    "\n",
    "$$R_1(\\alpha_1,\\beta_1)=\\dfrac{\\alpha_1}{\\alpha_1+\\beta_1}[1+\\gamma R(\\alpha_1+1,\\beta_1,\\alpha_2,\\beta_2)]+\\dfrac{\\beta_1}{\\alpha_1+\\beta_1}[\\gamma R(\\alpha_1,\\beta_1+1,\\alpha_2,\\beta_2)]$$\n",
    "\n",
    "### Similar Reasoning for Arm 2:\n",
    "The expected reward for pulling arm 2 follows the same logic, adjusting for the parameters of arm 2:\n",
    "\n",
    "Similarly, since $$\\theta_2\\sim Beta(\\alpha_2,\\beta_2)$$\n",
    "So with the same method above, we can get that:\n",
    "$$R_2(\\alpha_2,\\beta_2)=\\dfrac{\\alpha_2}{\\alpha_2+\\beta_2}[1+\\gamma R(\\alpha_1,\\beta_1,\\alpha_2+1,\\beta_2)]+\\dfrac{\\beta_2}{\\alpha_2+\\beta_2}[\\gamma R(\\alpha_2,\\beta_1,\\alpha_2,\\beta_2+1)]$$\n",
    "\n",
    "And since we want to maximize the total reward, so we can get that:\n",
    "$$R(\\alpha_1,\\beta_1,\\alpha_2,\\beta_2)=\\max\\{R_1(\\alpha_1,\\beta_1),R_2(\\alpha_2,\\beta_2)\\}$$\n",
    "\n",
    "So above all, the following recurrence equation holds have been proven.\n",
    "$$R_1(\\alpha_1,\\beta_1)=\\dfrac{\\alpha_1}{\\alpha_1+\\beta_1}[1+\\gamma R(\\alpha_1+1,\\beta_1,\\alpha_2,\\beta_2)]+\\dfrac{\\beta_1}{\\alpha_1+\\beta_1}[\\gamma R(\\alpha_1,\\beta_1+1,\\alpha_2,\\beta_2)]$$\n",
    "$$R_2(\\alpha_2,\\beta_2)=\\dfrac{\\alpha_2}{\\alpha_2+\\beta_2}[1+\\gamma R(\\alpha_1,\\beta_1,\\alpha_2+1,\\beta_2)]+\\dfrac{\\beta_2}{\\alpha_2+\\beta_2}[\\gamma R(\\alpha_2,\\beta_1,\\alpha_2,\\beta_2+1)]$$\n",
    "$$R(\\alpha_1,\\beta_1,\\alpha_2,\\beta_2)=\\max\\{R_1(\\alpha_1,\\beta_1),R_2(\\alpha_2,\\beta_2)\\}$$"
   ]
  },
  {
   "cell_type": "markdown",
   "metadata": {},
   "source": [
    "#### 4 For the above equations, our solution:"
   ]
  },
  {
   "cell_type": "markdown",
   "metadata": {},
   "source": [
    "To solve the recursive equations, we use an approximate method since solving them exactly is impractical due to the infinite number of states and the absence of clear boundaries. In our approach, we introduce a counter to track the number of times each arm has been pulled. Once the counter exceeds 100 pulls, we assume that the exploration phase has provided sufficient information about the arms. At this point, we transition to the exploitation phase, where we choose the arm with the higher mean value. The mean for each arm is computed as $ \\frac{\\alpha}{\\alpha + \\beta} $, based on its Beta distribution parameters.\n",
    "\n",
    "To enhance efficiency, we implement a small optimization by using a dictionary to store the results of states that have already been calculated. This prevents redundant computations and accelerates the process significantly, as many states are encountered repeatedly. This optimization is conceptually similar to memoization in dynamic programming, where previously computed results are reused to avoid recalculating them. By adopting this approach, we strike a balance between exploration and exploitation, while also improving the computational efficiency of our algorithm."
   ]
  },
  {
   "cell_type": "code",
   "execution_count": 10,
   "metadata": {},
   "outputs": [],
   "source": [
    "results_cache = {}\n",
    "policy = {}\n",
    "\n",
    "def calculate_R(alpha1, beta1, alpha2, beta2, discount_factor, exploration_count, max_exploration = 100):\n",
    "    if (alpha1, beta1, alpha2, beta2) in results_cache:\n",
    "        return results_cache[(alpha1, beta1, alpha2, beta2)]\n",
    "\n",
    "    if exploration_count > max_exploration:\n",
    "        mean_arm1 = alpha1 / (alpha1 + beta1)\n",
    "        mean_arm2 = alpha2 / (alpha2 + beta2)\n",
    "        results_cache[(alpha1, beta1, alpha2, beta2)] = max(mean_arm1, mean_arm2)\n",
    "        policy[(alpha1, beta1, alpha2, beta2)] = mean_arm1 > mean_arm2\n",
    "        return max(mean_arm1, mean_arm2) \n",
    "\n",
    "    expected_reward_arm1 = (\n",
    "        (alpha1 / (alpha1 + beta1)) * (1 + discount_factor * calculate_R(alpha1 + 1, beta1, alpha2, beta2, discount_factor, exploration_count + 1))\n",
    "        + (beta1 / (alpha1 + beta1)) * (discount_factor * calculate_R(alpha1, beta1 + 1, alpha2, beta2, discount_factor, exploration_count + 1))\n",
    "    )\n",
    "\n",
    "    expected_reward_arm2 = (\n",
    "        (alpha2 / (alpha2 + beta2)) * (1 + discount_factor * calculate_R(alpha1, beta1, alpha2 + 1, beta2, discount_factor, exploration_count + 1))\n",
    "        + (beta2 / (alpha2 + beta2)) * (discount_factor * calculate_R(alpha1, beta1, alpha2, beta2 + 1, discount_factor, exploration_count + 1))\n",
    "    )\n",
    "\n",
    "    max_reward = max(expected_reward_arm1, expected_reward_arm2)\n",
    "\n",
    "    results_cache[(alpha1, beta1, alpha2, beta2)] = max_reward\n",
    "    policy[(alpha1, beta1, alpha2, beta2)] = expected_reward_arm1 > expected_reward_arm2\n",
    "\n",
    "    return max_reward"
   ]
  },
  {
   "cell_type": "markdown",
   "metadata": {},
   "source": [
    "The code above contains our implementation."
   ]
  },
  {
   "cell_type": "markdown",
   "metadata": {},
   "source": [
    "Another possible solution is by using Q-Learning. As we can regard $R_1$ and $R_2$ as the Q-value of the state, and $R$ as the value of the state, the problem is actually a Markov Decision Process (MDP) problem. We can use Q-learning or other reinforcement learning algorithms to\n",
    "solve it."
   ]
  },
  {
   "cell_type": "code",
   "execution_count": 11,
   "metadata": {},
   "outputs": [
    {
     "name": "stdout",
     "output_type": "stream",
     "text": [
      "Optimal action for initial state: Arm 1\n",
      "Q-values for initial state: [2.29027634 1.20295999]\n"
     ]
    }
   ],
   "source": [
    "import numpy as np\n",
    "\n",
    "class BayesianBanditQLearning:\n",
    "    def __init__(self, alpha1, beta1, alpha2, beta2, gamma, learning_rate=0.1, epsilon=0.1):\n",
    "        self.alpha1 = alpha1\n",
    "        self.beta1 = beta1\n",
    "        self.alpha2 = alpha2\n",
    "        self.beta2 = beta2\n",
    "        self.gamma = gamma\n",
    "        self.learning_rate = learning_rate\n",
    "        self.epsilon = epsilon\n",
    "        self.q_values = {}\n",
    "        \n",
    "    def get_state_key(self, alpha1, beta1, alpha2, beta2):\n",
    "        return (alpha1, beta1, alpha2, beta2)\n",
    "    \n",
    "    def get_q_value(self, state, action):\n",
    "        if state not in self.q_values:\n",
    "            self.q_values[state] = np.zeros(2)\n",
    "        return self.q_values[state][action]\n",
    "    \n",
    "    def choose_action(self, state):\n",
    "        if np.random.random() < self.epsilon:\n",
    "            return np.random.randint(2)\n",
    "        else:\n",
    "            return np.argmax(self.q_values.get(state, np.zeros(2)))\n",
    "    \n",
    "    def update(self, state, action, reward, next_state):\n",
    "        current_q = self.get_q_value(state, action)\n",
    "        next_max_q = np.max(self.q_values.get(next_state, np.zeros(2)))\n",
    "        \n",
    "        # Q-learning update rule\n",
    "        new_q = current_q + self.learning_rate * (reward + self.gamma * next_max_q - current_q)\n",
    "        \n",
    "        if state not in self.q_values:\n",
    "            self.q_values[state] = np.zeros(2)\n",
    "        self.q_values[state][action] = new_q\n",
    "\n",
    "    def train(self, episodes=1000, max_steps=100):\n",
    "        for _ in range(episodes):\n",
    "            # Reset state for new episode\n",
    "            alpha1, beta1 = self.alpha1, self.beta1\n",
    "            alpha2, beta2 = self.alpha2, self.beta2\n",
    "            \n",
    "            for step in range(max_steps):\n",
    "                state = self.get_state_key(alpha1, beta1, alpha2, beta2)\n",
    "                action = self.choose_action(state)\n",
    "                \n",
    "                # Generate reward based on Beta distribution\n",
    "                if action == 0:\n",
    "                    success_prob = alpha1 / (alpha1 + beta1)\n",
    "                    reward = 1 if np.random.random() < success_prob else 0\n",
    "                    if reward:\n",
    "                        alpha1 += 1\n",
    "                    else:\n",
    "                        beta1 += 1\n",
    "                else:\n",
    "                    success_prob = alpha2 / (alpha2 + beta2)\n",
    "                    reward = 1 if np.random.random() < success_prob else 0\n",
    "                    if reward:\n",
    "                        alpha2 += 1\n",
    "                    else:\n",
    "                        beta2 += 1\n",
    "                \n",
    "                reward = reward * (self.gamma ** step)\n",
    "                next_state = self.get_state_key(alpha1, beta1, alpha2, beta2)\n",
    "                \n",
    "                self.update(state, action, reward, next_state)\n",
    "\n",
    "# Test the Q-learning implementation\n",
    "ql = BayesianBanditQLearning(alpha1=1, beta1=1, alpha2=1, beta2=1, gamma=0.9)\n",
    "ql.train()\n",
    "\n",
    "# Get optimal policy for initial state\n",
    "initial_state = ql.get_state_key(1, 1, 1, 1)\n",
    "optimal_action = np.argmax(ql.q_values.get(initial_state, np.zeros(2)))\n",
    "print(f\"Optimal action for initial state: Arm {optimal_action + 1}\")\n",
    "print(f\"Q-values for initial state: {ql.q_values.get(initial_state, np.zeros(2))}\")"
   ]
  },
  {
   "cell_type": "markdown",
   "metadata": {},
   "source": [
    "#### 5 The optimal policy:"
   ]
  },
  {
   "cell_type": "code",
   "execution_count": 12,
   "metadata": {},
   "outputs": [],
   "source": [
    "def optimal_policy(N, gamma, true_theta, alpha, beta, max_exploration = 100):\n",
    "    rewards = np.zeros(N)\n",
    "    alpha = np.array(alpha)\n",
    "    beta = np.array(beta)\n",
    "    calculate_R(alpha[0], beta[0], alpha[1], beta[1], gamma, 0, max_exploration = 100)\n",
    "    \n",
    "    for t in range(N):\n",
    "        chosen_arm = 0 if policy[(alpha[0], beta[0], alpha[1], beta[1])] else 1\n",
    "        reward = np.random.rand() < true_theta[chosen_arm]\n",
    "        rewards[t] = reward * (gamma ** t)\n",
    "        alpha[chosen_arm] += reward\n",
    "        beta[chosen_arm] += 1 - reward\n",
    "\n",
    "    return np.sum(rewards)\n"
   ]
  },
  {
   "cell_type": "markdown",
   "metadata": {},
   "source": [
    "Let's test the optimal policy and compare its performance with the intuitive policy."
   ]
  },
  {
   "cell_type": "code",
   "execution_count": 13,
   "metadata": {},
   "outputs": [
    {
     "name": "stdout",
     "output_type": "stream",
     "text": [
      "\n",
      "Scenario 1: True probabilities = [0.85 0.9 ]\n",
      "Intuitive Average reward: 53.92\n",
      "Optimal Average reward: 54.14\n",
      "Regret Rate (Intuitive): 0.4009\n",
      "Regret Rate (Optimal): 0.3985\n",
      "Improvement: 0.40%\n",
      "\n",
      "Scenario 2: True probabilities = [0.6 0.8]\n",
      "Intuitive Average reward: 38.05\n",
      "Optimal Average reward: 38.02\n",
      "Regret Rate (Intuitive): 0.5244\n",
      "Regret Rate (Optimal): 0.5247\n",
      "Improvement: -0.07%\n",
      "\n",
      "Scenario 3: True probabilities = [0.95 0.85]\n",
      "Intuitive Average reward: 60.24\n",
      "Optimal Average reward: 60.18\n",
      "Regret Rate (Intuitive): 0.3659\n",
      "Regret Rate (Optimal): 0.3665\n",
      "Improvement: -0.11%\n",
      "\n",
      "Scenario 4: True probabilities = [0.5  0.55]\n",
      "Intuitive Average reward: 31.56\n",
      "Optimal Average reward: 31.69\n",
      "Regret Rate (Intuitive): 0.4262\n",
      "Regret Rate (Optimal): 0.4238\n",
      "Improvement: 0.42%\n"
     ]
    }
   ],
   "source": [
    "test_runs = 1000\n",
    "test_rewards_intuitive = np.zeros(test_runs)\n",
    "test_rewards_optimal = np.zeros(test_runs)\n",
    "N_short = 100\n",
    "gamma_close_to_1 = 0.99\n",
    "\n",
    "counter_alpha = [200, 1]\n",
    "counter_beta = [1, 1]\n",
    "# Different scenarios of true probabilities\n",
    "counter_true_thetas = [\n",
    "    np.array([0.85, 0.9]),   # Case 1: Second arm slightly better\n",
    "    np.array([0.6, 0.8]),    # Case 2: Second arm significantly better\n",
    "    np.array([0.95, 0.85]),  # Case 3: First arm better\n",
    "    np.array([0.5, 0.55])    # Case 4: Close probabilities\n",
    "]\n",
    "\n",
    "for scenario_idx, counter_true_theta in enumerate(counter_true_thetas, 1):\n",
    "    print(f\"\\nScenario {scenario_idx}: True probabilities = {counter_true_theta}\")\n",
    "    \n",
    "    for i in range(test_runs):\n",
    "        local_alpha = counter_alpha.copy()\n",
    "        local_beta = counter_beta.copy()\n",
    "        test_rewards_intuitive[i] = intuitive_policy(N_short, gamma_close_to_1, \n",
    "                                                   counter_true_theta, local_alpha, local_beta)\n",
    "\n",
    "    for i in range(test_runs):\n",
    "        local_alpha = counter_alpha.copy()\n",
    "        local_beta = counter_beta.copy()\n",
    "        test_rewards_optimal[i] = optimal_policy(N_short, gamma_close_to_1, \n",
    "                                               counter_true_theta, local_alpha, local_beta, 200)\n",
    "    \n",
    "    avg_r_intuitive = np.mean(test_rewards_intuitive)\n",
    "    avg_r_optimal = np.mean(test_rewards_optimal)\n",
    "    optimal_r = np.max(counter_true_theta) / (1 - gamma_close_to_1)\n",
    "    regret_rate_intuitive = 1 - avg_r_intuitive/optimal_r\n",
    "    regret_rate_optimal = 1 - avg_r_optimal/optimal_r\n",
    "    \n",
    "    print(f\"Intuitive Average reward: {avg_r_intuitive:.2f}\")\n",
    "    print(f\"Optimal Average reward: {avg_r_optimal:.2f}\")\n",
    "    print(f\"Regret Rate (Intuitive): {regret_rate_intuitive:.4f}\")\n",
    "    print(f\"Regret Rate (Optimal): {regret_rate_optimal:.4f}\")\n",
    "    print(f\"Improvement: {((avg_r_optimal - avg_r_intuitive)/avg_r_intuitive * 100):.2f}%\")"
   ]
  },
  {
   "cell_type": "markdown",
   "metadata": {},
   "source": [
    "Based on the results presented above, we can conclude that the optimal policy significantly enhances performance"
   ]
  },
  {
   "cell_type": "markdown",
   "metadata": {},
   "source": [
    "Further investigation: Let's adjust the hyperparameter 'max_exploration' to control the number of times we explore rather than exploit."
   ]
  },
  {
   "cell_type": "code",
   "execution_count": 19,
   "metadata": {},
   "outputs": [
    {
     "data": {
      "image/png": "[encoded data removed]",
      "text/plain": [
       "<Figure size 640x480 with 1 Axes>"
      ]
     },
     "metadata": {},
     "output_type": "display_data"
    }
   ],
   "source": [
    "import numpy as np\n",
    "import matplotlib.pyplot as plt\n",
    "\n",
    "test_runs = 10000\n",
    "test_rewards_optimal = np.zeros(test_runs)\n",
    "N_short = 100\n",
    "gamma_close_to_1 = 0.99\n",
    "\n",
    "counter_alpha = [200, 1]\n",
    "counter_beta = [1, 1]\n",
    "counter_true_theta = np.array([0.85, 0.9])\n",
    "\n",
    "avg_rewards_per_exploration = []\n",
    "\n",
    "explore = [i for i in range(20, 501, 10)]\n",
    "\n",
    "for max_exploration in explore:\n",
    "    total_rewards = []\n",
    "\n",
    "    for i in range(test_runs):\n",
    "        local_alpha = counter_alpha.copy()\n",
    "        local_beta = counter_beta.copy()\n",
    "        test_rewards_optimal[i] = optimal_policy(N_short, gamma_close_to_1, counter_true_theta, local_alpha, local_beta, max_exploration)\n",
    "\n",
    "    avg_r_optimal = np.mean(test_rewards_optimal)\n",
    "    avg_rewards_per_exploration.append(avg_r_optimal)\n",
    "\n",
    "plt.plot(explore, avg_rewards_per_exploration, marker='o', linestyle='-', color='b')\n",
    "plt.xlabel('Max Exploration')\n",
    "plt.ylabel('Average Reward')\n",
    "plt.title('Average Reward for Different Max Exploration Values')\n",
    "plt.grid(True)\n",
    "\n",
    "# 数据拟合成一条曲线\n",
    "z = np.polyfit(explore, avg_rewards_per_exploration, 2)\n",
    "p = np.poly1d(z)\n",
    "\n",
    "plt.plot(explore, p(explore), 'r--')\n",
    "plt.legend(['Average Reward', 'Fitted Curve'])\n",
    "\n",
    "\n",
    "plt.show()\n"
   ]
  },
  {
   "cell_type": "markdown",
   "metadata": {},
   "source": [
    "It appears that increasing exploration leads to better results. Here’s our reasoning:  \n",
    "We can interpret the equations in Problem 3 as Bellman equations in dynamic programming, except that they lack a base case. The base case actually exists when $\\alpha, \\beta \\to \\infty$. To approximate this base case, we use a sufficiently large number. Consequently, the larger the number, the closer it is to infinity, and the solution becomes more accurate.\n"
   ]
  }
 ],
 "metadata": {
  "kernelspec": {
   "display_name": "py310",
   "language": "python",
   "name": "python3"
  },
  "language_info": {
   "codemirror_mode": {
    "name": "ipython",
    "version": 3
   },
   "file_extension": ".py",
   "mimetype": "text/x-python",
   "name": "python",
   "nbconvert_exporter": "python",
   "pygments_lexer": "ipython3",
   "version": "3.10.13"
  }
 },
 "nbformat": 4,
 "nbformat_minor": 2
}
