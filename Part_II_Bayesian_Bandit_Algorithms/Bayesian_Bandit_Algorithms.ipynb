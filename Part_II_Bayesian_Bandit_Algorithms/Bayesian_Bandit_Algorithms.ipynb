{
 "cells": [
  {
   "cell_type": "code",
   "execution_count": 1,
   "metadata": {},
   "outputs": [
    {
     "name": "stderr",
     "output_type": "stream",
     "text": [
      "100%|██████████| 200/200 [00:03<00:00, 52.91it/s]\n"
     ]
    },
    {
     "name": "stdout",
     "output_type": "stream",
     "text": [
      "gamma: 0.1, alpha: [1, 1], beta: [1, 1], avg_reward: 0.4940, avg_regret_rate: 0.3067\n"
     ]
    },
    {
     "name": "stderr",
     "output_type": "stream",
     "text": [
      "100%|██████████| 200/200 [00:03<00:00, 51.69it/s]\n"
     ]
    },
    {
     "name": "stdout",
     "output_type": "stream",
     "text": [
      "gamma: 0.1, alpha: [2, 1], beta: [1, 1], avg_reward: 0.5792, avg_regret_rate: 0.2038\n"
     ]
    },
    {
     "name": "stderr",
     "output_type": "stream",
     "text": [
      "100%|██████████| 200/200 [00:03<00:00, 51.48it/s]\n"
     ]
    },
    {
     "name": "stdout",
     "output_type": "stream",
     "text": [
      "gamma: 0.1, alpha: [20, 1], beta: [10, 1], avg_reward: 0.5307, avg_regret_rate: 0.3054\n"
     ]
    },
    {
     "name": "stderr",
     "output_type": "stream",
     "text": [
      "100%|██████████| 200/200 [00:03<00:00, 50.92it/s]\n"
     ]
    },
    {
     "name": "stdout",
     "output_type": "stream",
     "text": [
      "gamma: 0.3, alpha: [1, 1], beta: [1, 1], avg_reward: 0.7059, avg_regret_rate: 0.2426\n"
     ]
    },
    {
     "name": "stderr",
     "output_type": "stream",
     "text": [
      "100%|██████████| 200/200 [00:03<00:00, 51.78it/s]\n"
     ]
    },
    {
     "name": "stdout",
     "output_type": "stream",
     "text": [
      "gamma: 0.3, alpha: [2, 1], beta: [1, 1], avg_reward: 0.7101, avg_regret_rate: 0.2481\n"
     ]
    },
    {
     "name": "stderr",
     "output_type": "stream",
     "text": [
      "100%|██████████| 200/200 [00:03<00:00, 51.74it/s]\n"
     ]
    },
    {
     "name": "stdout",
     "output_type": "stream",
     "text": [
      "gamma: 0.3, alpha: [20, 1], beta: [10, 1], avg_reward: 0.7500, avg_regret_rate: 0.2426\n"
     ]
    },
    {
     "name": "stderr",
     "output_type": "stream",
     "text": [
      "100%|██████████| 200/200 [00:03<00:00, 52.78it/s]\n"
     ]
    },
    {
     "name": "stdout",
     "output_type": "stream",
     "text": [
      "gamma: 0.5, alpha: [1, 1], beta: [1, 1], avg_reward: 1.0556, avg_regret_rate: 0.1603\n"
     ]
    },
    {
     "name": "stderr",
     "output_type": "stream",
     "text": [
      "100%|██████████| 200/200 [00:03<00:00, 51.97it/s]\n"
     ]
    },
    {
     "name": "stdout",
     "output_type": "stream",
     "text": [
      "gamma: 0.5, alpha: [2, 1], beta: [1, 1], avg_reward: 0.9638, avg_regret_rate: 0.2279\n"
     ]
    },
    {
     "name": "stderr",
     "output_type": "stream",
     "text": [
      "100%|██████████| 200/200 [00:03<00:00, 51.99it/s]\n"
     ]
    },
    {
     "name": "stdout",
     "output_type": "stream",
     "text": [
      "gamma: 0.5, alpha: [20, 1], beta: [10, 1], avg_reward: 0.9624, avg_regret_rate: 0.3027\n"
     ]
    },
    {
     "name": "stderr",
     "output_type": "stream",
     "text": [
      "100%|██████████| 200/200 [00:03<00:00, 52.02it/s]\n"
     ]
    },
    {
     "name": "stdout",
     "output_type": "stream",
     "text": [
      "gamma: 0.7, alpha: [1, 1], beta: [1, 1], avg_reward: 2.0249, avg_regret_rate: 0.1312\n"
     ]
    },
    {
     "name": "stderr",
     "output_type": "stream",
     "text": [
      "100%|██████████| 200/200 [00:03<00:00, 51.93it/s]\n"
     ]
    },
    {
     "name": "stdout",
     "output_type": "stream",
     "text": [
      "gamma: 0.7, alpha: [2, 1], beta: [1, 1], avg_reward: 1.9336, avg_regret_rate: 0.1533\n"
     ]
    },
    {
     "name": "stderr",
     "output_type": "stream",
     "text": [
      "100%|██████████| 200/200 [00:03<00:00, 51.31it/s]\n"
     ]
    },
    {
     "name": "stdout",
     "output_type": "stream",
     "text": [
      "gamma: 0.7, alpha: [20, 1], beta: [10, 1], avg_reward: 1.6751, avg_regret_rate: 0.2470\n"
     ]
    },
    {
     "name": "stderr",
     "output_type": "stream",
     "text": [
      "100%|██████████| 200/200 [00:03<00:00, 51.70it/s]\n"
     ]
    },
    {
     "name": "stdout",
     "output_type": "stream",
     "text": [
      "gamma: 0.9, alpha: [1, 1], beta: [1, 1], avg_reward: 6.0313, avg_regret_rate: 0.0801\n"
     ]
    },
    {
     "name": "stderr",
     "output_type": "stream",
     "text": [
      "100%|██████████| 200/200 [00:03<00:00, 52.80it/s]\n"
     ]
    },
    {
     "name": "stdout",
     "output_type": "stream",
     "text": [
      "gamma: 0.9, alpha: [2, 1], beta: [1, 1], avg_reward: 5.5228, avg_regret_rate: 0.1211\n"
     ]
    },
    {
     "name": "stderr",
     "output_type": "stream",
     "text": [
      "100%|██████████| 200/200 [00:03<00:00, 52.72it/s]\n"
     ]
    },
    {
     "name": "stdout",
     "output_type": "stream",
     "text": [
      "gamma: 0.9, alpha: [20, 1], beta: [10, 1], avg_reward: 4.9979, avg_regret_rate: 0.2226\n"
     ]
    },
    {
     "name": "stderr",
     "output_type": "stream",
     "text": [
      "100%|██████████| 200/200 [00:03<00:00, 52.16it/s]\n"
     ]
    },
    {
     "name": "stdout",
     "output_type": "stream",
     "text": [
      "gamma: 0.99, alpha: [1, 1], beta: [1, 1], avg_reward: 65.0557, avg_regret_rate: 0.0354\n"
     ]
    },
    {
     "name": "stderr",
     "output_type": "stream",
     "text": [
      "100%|██████████| 200/200 [00:03<00:00, 52.21it/s]\n"
     ]
    },
    {
     "name": "stdout",
     "output_type": "stream",
     "text": [
      "gamma: 0.99, alpha: [2, 1], beta: [1, 1], avg_reward: 63.1554, avg_regret_rate: 0.0561\n"
     ]
    },
    {
     "name": "stderr",
     "output_type": "stream",
     "text": [
      "100%|██████████| 200/200 [00:03<00:00, 52.58it/s]"
     ]
    },
    {
     "name": "stdout",
     "output_type": "stream",
     "text": [
      "gamma: 0.99, alpha: [20, 1], beta: [10, 1], avg_reward: 57.6609, avg_regret_rate: 0.1312\n"
     ]
    },
    {
     "name": "stderr",
     "output_type": "stream",
     "text": [
      "\n"
     ]
    }
   ],
   "source": [
    "import numpy as np\n",
    "from tqdm import tqdm\n",
    "\n",
    "def intuitive_policy(N, gamma, true_theta, alpha, beta):\n",
    "    \"\"\"\n",
    "    Implements the intuitive policy for a two-armed bandit problem with discounted rewards.\n",
    "    \n",
    "    Args:\n",
    "        N (int): Number of time steps\n",
    "        gamma (float): Discount factor\n",
    "        true_theta (np.ndarray): True probabilities for each arm\n",
    "        alpha (list): Initial alpha parameters for Beta distribution\n",
    "        beta (list): Initial beta parameters for Beta distribution\n",
    "    \n",
    "    Returns:\n",
    "        float: Sum of discounted rewards\n",
    "    \"\"\"\n",
    "    rewards = np.zeros(N)\n",
    "    alpha = np.array(alpha)  \n",
    "    beta = np.array(beta)\n",
    "\n",
    "    for t in range(N):\n",
    "        theta_estimate = alpha / (alpha + beta)\n",
    "        chosen_arm = np.argmax(theta_estimate)\n",
    "\n",
    "        reward = np.random.rand() < true_theta[chosen_arm]\n",
    "        rewards[t] = reward * (gamma ** t)\n",
    "        \n",
    "        alpha[chosen_arm] += reward\n",
    "        beta[chosen_arm] += 1 - reward\n",
    "\n",
    "    return np.sum(rewards)\n",
    "\n",
    "num_trials = 200\n",
    "N = 5000\n",
    "gamma_list = [0.1, 0.3, 0.5, 0.7, 0.9, 0.99]\n",
    "alpha_list = [[1, 1], [2, 1], [20, 1]]\n",
    "beta_list = [[1, 1], [1, 1], [10, 1]]\n",
    "\n",
    "for gamma in gamma_list:\n",
    "    for alpha, beta in zip(alpha_list, beta_list):\n",
    "        rewards = np.zeros(num_trials)\n",
    "        regret_rate = np.zeros(num_trials)\n",
    "        \n",
    "        for i in tqdm(range(num_trials)):\n",
    "            true_theta = np.random.rand(2)\n",
    "\n",
    "            rewards[i] = intuitive_policy(N, gamma, true_theta, alpha, beta)\n",
    "            max_value = np.max(true_theta) / (1 - gamma)\n",
    "            regret_rate[i] = 1 - rewards[i] / max_value\n",
    "            \n",
    "        print(f\"gamma: {gamma}, alpha: {alpha}, beta: {beta}, \"\n",
    "              f\"avg_reward: {np.mean(rewards):.4f}, \"\n",
    "              f\"avg_regret_rate: {np.mean(regret_rate):.4f}\")"
   ]
  }
 ],
 "metadata": {
  "kernelspec": {
   "display_name": "py310",
   "language": "python",
   "name": "python3"
  },
  "language_info": {
   "codemirror_mode": {
    "name": "ipython",
    "version": 3
   },
   "file_extension": ".py",
   "mimetype": "text/x-python",
   "name": "python",
   "nbconvert_exporter": "python",
   "pygments_lexer": "ipython3",
   "version": "3.10.13"
  }
 },
 "nbformat": 4,
 "nbformat_minor": 2
}
